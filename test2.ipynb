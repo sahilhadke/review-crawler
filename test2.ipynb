{
 "cells": [
  {
   "cell_type": "code",
   "execution_count": null,
   "metadata": {
    "vscode": {
     "languageId": "plaintext"
    }
   },
   "outputs": [],
   "source": [
    "\"\"\"A complete end-to-end test for an e-commerce website.\"\"\"\n",
    "from seleniumbase import BaseCase, SB\n",
    "BaseCase.main(__name__, __file__)\n",
    "import time\n",
    "\n",
    "\n",
    "class MyTestClass(BaseCase):\n",
    "    def test_swag_labs(self):\n",
    "        self.open(\"https://www.google.com/maps/search/thai+basil+tempe/\")\n",
    "        self.click('input[value=\"Google Search\"]')\n",
    "        time.sleep(70)\n",
    "        self.js_click('xpath=/html/body/div[2]/div[3]/div[8]/div[9]/div/div/div[1]/div[2]/div/div[1]/div/div/div[1]/div[1]/div[3]/div')\n",
    "        "
   ]
  }
 ],
 "metadata": {
  "language_info": {
   "name": "python"
  }
 },
 "nbformat": 4,
 "nbformat_minor": 2
}
